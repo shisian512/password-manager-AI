{
 "cells": [
  {
   "cell_type": "code",
   "execution_count": 2,
   "id": "8ac98d88",
   "metadata": {
    "_cell_guid": "b1076dfc-b9ad-4769-8c92-a6c4dae69d19",
    "_uuid": "8f2839f25d086af736a60e9eeb907d3b93b6e0e5",
    "execution": {
     "iopub.execute_input": "2023-08-03T02:07:09.440177Z",
     "iopub.status.busy": "2023-08-03T02:07:09.439737Z",
     "iopub.status.idle": "2023-08-03T02:07:10.118759Z",
     "shell.execute_reply": "2023-08-03T02:07:10.117568Z"
    },
    "papermill": {
     "duration": 0.694003,
     "end_time": "2023-08-03T02:07:10.121718",
     "exception": false,
     "start_time": "2023-08-03T02:07:09.427715",
     "status": "completed"
    },
    "tags": []
   },
   "outputs": [
    {
     "name": "stderr",
     "output_type": "stream",
     "text": [
      "C:\\Users\\nick\\AppData\\Local\\Temp\\ipykernel_6272\\1636562675.py:6: FutureWarning: The error_bad_lines argument has been deprecated and will be removed in a future version. Use on_bad_lines in the future.\n",
      "\n",
      "\n",
      "  data = pd.read_csv(file_path, error_bad_lines=False)\n",
      "Skipping line 2810: expected 2 fields, saw 5\n",
      "Skipping line 4641: expected 2 fields, saw 5\n",
      "Skipping line 7171: expected 2 fields, saw 5\n",
      "Skipping line 11220: expected 2 fields, saw 5\n",
      "Skipping line 13809: expected 2 fields, saw 5\n",
      "Skipping line 14132: expected 2 fields, saw 5\n",
      "Skipping line 14293: expected 2 fields, saw 5\n",
      "Skipping line 14865: expected 2 fields, saw 5\n",
      "Skipping line 17419: expected 2 fields, saw 5\n",
      "Skipping line 22801: expected 2 fields, saw 5\n",
      "Skipping line 25001: expected 2 fields, saw 5\n",
      "Skipping line 26603: expected 2 fields, saw 5\n",
      "Skipping line 26742: expected 2 fields, saw 5\n",
      "Skipping line 29702: expected 2 fields, saw 5\n",
      "Skipping line 32767: expected 2 fields, saw 5\n",
      "Skipping line 32878: expected 2 fields, saw 5\n",
      "Skipping line 35643: expected 2 fields, saw 5\n",
      "Skipping line 36550: expected 2 fields, saw 5\n",
      "Skipping line 38732: expected 2 fields, saw 5\n",
      "Skipping line 40567: expected 2 fields, saw 5\n",
      "Skipping line 40576: expected 2 fields, saw 5\n",
      "Skipping line 41864: expected 2 fields, saw 5\n",
      "Skipping line 46861: expected 2 fields, saw 5\n",
      "Skipping line 47939: expected 2 fields, saw 5\n",
      "Skipping line 48628: expected 2 fields, saw 5\n",
      "Skipping line 48908: expected 2 fields, saw 5\n",
      "Skipping line 57582: expected 2 fields, saw 5\n",
      "Skipping line 58782: expected 2 fields, saw 5\n",
      "Skipping line 58984: expected 2 fields, saw 5\n",
      "Skipping line 61518: expected 2 fields, saw 5\n",
      "Skipping line 63451: expected 2 fields, saw 5\n",
      "Skipping line 68141: expected 2 fields, saw 5\n",
      "Skipping line 72083: expected 2 fields, saw 5\n",
      "Skipping line 74027: expected 2 fields, saw 5\n",
      "Skipping line 77811: expected 2 fields, saw 5\n",
      "Skipping line 83958: expected 2 fields, saw 5\n",
      "Skipping line 85295: expected 2 fields, saw 5\n",
      "Skipping line 88665: expected 2 fields, saw 5\n",
      "Skipping line 89198: expected 2 fields, saw 5\n",
      "Skipping line 92499: expected 2 fields, saw 5\n",
      "Skipping line 92751: expected 2 fields, saw 5\n",
      "Skipping line 93689: expected 2 fields, saw 5\n",
      "Skipping line 94776: expected 2 fields, saw 5\n",
      "Skipping line 97334: expected 2 fields, saw 5\n",
      "Skipping line 102316: expected 2 fields, saw 5\n",
      "Skipping line 103421: expected 2 fields, saw 5\n",
      "Skipping line 106872: expected 2 fields, saw 5\n",
      "Skipping line 109363: expected 2 fields, saw 5\n",
      "Skipping line 110117: expected 2 fields, saw 5\n",
      "Skipping line 110465: expected 2 fields, saw 5\n",
      "Skipping line 113843: expected 2 fields, saw 5\n",
      "Skipping line 115634: expected 2 fields, saw 5\n",
      "Skipping line 121518: expected 2 fields, saw 5\n",
      "Skipping line 123692: expected 2 fields, saw 5\n",
      "Skipping line 124708: expected 2 fields, saw 5\n",
      "Skipping line 129608: expected 2 fields, saw 5\n",
      "Skipping line 133176: expected 2 fields, saw 5\n",
      "Skipping line 135532: expected 2 fields, saw 5\n",
      "Skipping line 138042: expected 2 fields, saw 5\n",
      "Skipping line 139485: expected 2 fields, saw 5\n",
      "Skipping line 140401: expected 2 fields, saw 5\n",
      "Skipping line 144093: expected 2 fields, saw 5\n",
      "Skipping line 149850: expected 2 fields, saw 5\n",
      "Skipping line 151831: expected 2 fields, saw 5\n",
      "Skipping line 158014: expected 2 fields, saw 5\n",
      "Skipping line 162047: expected 2 fields, saw 5\n",
      "Skipping line 164515: expected 2 fields, saw 5\n",
      "Skipping line 170313: expected 2 fields, saw 5\n",
      "Skipping line 171325: expected 2 fields, saw 5\n",
      "Skipping line 171424: expected 2 fields, saw 5\n",
      "Skipping line 175920: expected 2 fields, saw 5\n",
      "Skipping line 176210: expected 2 fields, saw 5\n",
      "Skipping line 183603: expected 2 fields, saw 5\n",
      "Skipping line 190264: expected 2 fields, saw 5\n",
      "Skipping line 191683: expected 2 fields, saw 5\n",
      "Skipping line 191988: expected 2 fields, saw 5\n",
      "Skipping line 195450: expected 2 fields, saw 5\n",
      "Skipping line 195754: expected 2 fields, saw 5\n",
      "Skipping line 197124: expected 2 fields, saw 5\n",
      "Skipping line 199263: expected 2 fields, saw 5\n",
      "Skipping line 202603: expected 2 fields, saw 5\n",
      "Skipping line 209960: expected 2 fields, saw 5\n",
      "Skipping line 213218: expected 2 fields, saw 5\n",
      "Skipping line 217060: expected 2 fields, saw 5\n",
      "Skipping line 220121: expected 2 fields, saw 5\n",
      "Skipping line 223518: expected 2 fields, saw 5\n",
      "Skipping line 226293: expected 2 fields, saw 5\n",
      "Skipping line 227035: expected 2 fields, saw 7\n",
      "Skipping line 227341: expected 2 fields, saw 5\n",
      "Skipping line 227808: expected 2 fields, saw 5\n",
      "Skipping line 228516: expected 2 fields, saw 5\n",
      "Skipping line 228733: expected 2 fields, saw 5\n",
      "Skipping line 232043: expected 2 fields, saw 5\n",
      "Skipping line 232426: expected 2 fields, saw 5\n",
      "Skipping line 234490: expected 2 fields, saw 5\n",
      "Skipping line 239626: expected 2 fields, saw 5\n",
      "Skipping line 240461: expected 2 fields, saw 5\n",
      "Skipping line 244518: expected 2 fields, saw 5\n",
      "Skipping line 245395: expected 2 fields, saw 5\n",
      "Skipping line 246168: expected 2 fields, saw 5\n",
      "Skipping line 246655: expected 2 fields, saw 5\n",
      "Skipping line 246752: expected 2 fields, saw 5\n",
      "Skipping line 247189: expected 2 fields, saw 5\n",
      "Skipping line 250276: expected 2 fields, saw 5\n",
      "Skipping line 255327: expected 2 fields, saw 5\n",
      "Skipping line 257094: expected 2 fields, saw 5\n",
      "\n",
      "Skipping line 264626: expected 2 fields, saw 5\n",
      "Skipping line 265028: expected 2 fields, saw 5\n",
      "Skipping line 269150: expected 2 fields, saw 5\n",
      "Skipping line 271360: expected 2 fields, saw 5\n",
      "Skipping line 273975: expected 2 fields, saw 5\n",
      "Skipping line 274742: expected 2 fields, saw 5\n",
      "Skipping line 276227: expected 2 fields, saw 5\n",
      "Skipping line 279807: expected 2 fields, saw 5\n",
      "Skipping line 283425: expected 2 fields, saw 5\n",
      "Skipping line 287468: expected 2 fields, saw 5\n",
      "Skipping line 292995: expected 2 fields, saw 5\n",
      "Skipping line 293496: expected 2 fields, saw 5\n",
      "Skipping line 293735: expected 2 fields, saw 5\n",
      "Skipping line 295060: expected 2 fields, saw 5\n",
      "Skipping line 296643: expected 2 fields, saw 5\n",
      "Skipping line 296848: expected 2 fields, saw 5\n",
      "Skipping line 308926: expected 2 fields, saw 5\n",
      "Skipping line 310360: expected 2 fields, saw 5\n",
      "Skipping line 317004: expected 2 fields, saw 5\n",
      "Skipping line 318207: expected 2 fields, saw 5\n",
      "Skipping line 331783: expected 2 fields, saw 5\n",
      "Skipping line 333864: expected 2 fields, saw 5\n",
      "Skipping line 335958: expected 2 fields, saw 5\n",
      "Skipping line 336290: expected 2 fields, saw 5\n",
      "Skipping line 343526: expected 2 fields, saw 5\n",
      "Skipping line 343857: expected 2 fields, saw 5\n",
      "Skipping line 344059: expected 2 fields, saw 5\n",
      "Skipping line 348691: expected 2 fields, saw 5\n",
      "Skipping line 353446: expected 2 fields, saw 5\n",
      "Skipping line 357073: expected 2 fields, saw 5\n",
      "Skipping line 359753: expected 2 fields, saw 5\n",
      "Skipping line 359974: expected 2 fields, saw 5\n",
      "Skipping line 366534: expected 2 fields, saw 5\n",
      "Skipping line 369514: expected 2 fields, saw 5\n",
      "Skipping line 377759: expected 2 fields, saw 5\n",
      "Skipping line 379327: expected 2 fields, saw 5\n",
      "Skipping line 380769: expected 2 fields, saw 5\n",
      "Skipping line 381073: expected 2 fields, saw 5\n",
      "Skipping line 381489: expected 2 fields, saw 5\n",
      "Skipping line 386304: expected 2 fields, saw 5\n",
      "Skipping line 387635: expected 2 fields, saw 5\n",
      "Skipping line 389613: expected 2 fields, saw 5\n",
      "Skipping line 392604: expected 2 fields, saw 5\n",
      "Skipping line 393184: expected 2 fields, saw 5\n",
      "Skipping line 395530: expected 2 fields, saw 5\n",
      "Skipping line 396939: expected 2 fields, saw 5\n",
      "Skipping line 397385: expected 2 fields, saw 5\n",
      "Skipping line 397509: expected 2 fields, saw 5\n",
      "Skipping line 402902: expected 2 fields, saw 5\n",
      "Skipping line 405187: expected 2 fields, saw 5\n",
      "Skipping line 408412: expected 2 fields, saw 5\n",
      "Skipping line 419423: expected 2 fields, saw 5\n",
      "Skipping line 420962: expected 2 fields, saw 5\n",
      "Skipping line 425965: expected 2 fields, saw 5\n",
      "Skipping line 427496: expected 2 fields, saw 5\n",
      "Skipping line 438881: expected 2 fields, saw 5\n",
      "Skipping line 439776: expected 2 fields, saw 5\n",
      "Skipping line 440345: expected 2 fields, saw 5\n",
      "Skipping line 445507: expected 2 fields, saw 5\n",
      "Skipping line 445548: expected 2 fields, saw 5\n",
      "Skipping line 447184: expected 2 fields, saw 5\n",
      "Skipping line 448603: expected 2 fields, saw 5\n",
      "Skipping line 451732: expected 2 fields, saw 5\n",
      "Skipping line 458249: expected 2 fields, saw 5\n",
      "Skipping line 460274: expected 2 fields, saw 5\n",
      "Skipping line 467630: expected 2 fields, saw 5\n",
      "Skipping line 473961: expected 2 fields, saw 5\n",
      "Skipping line 476281: expected 2 fields, saw 5\n",
      "Skipping line 478010: expected 2 fields, saw 5\n",
      "Skipping line 478322: expected 2 fields, saw 5\n",
      "Skipping line 479999: expected 2 fields, saw 5\n",
      "Skipping line 480898: expected 2 fields, saw 5\n",
      "Skipping line 481688: expected 2 fields, saw 5\n",
      "Skipping line 485193: expected 2 fields, saw 5\n",
      "Skipping line 485519: expected 2 fields, saw 5\n",
      "Skipping line 486000: expected 2 fields, saw 5\n",
      "Skipping line 489063: expected 2 fields, saw 5\n",
      "Skipping line 494525: expected 2 fields, saw 5\n",
      "Skipping line 495009: expected 2 fields, saw 5\n",
      "Skipping line 501954: expected 2 fields, saw 5\n",
      "Skipping line 508035: expected 2 fields, saw 5\n",
      "Skipping line 508828: expected 2 fields, saw 5\n",
      "Skipping line 509833: expected 2 fields, saw 5\n",
      "Skipping line 510410: expected 2 fields, saw 5\n",
      "Skipping line 518229: expected 2 fields, saw 5\n",
      "Skipping line 520302: expected 2 fields, saw 5\n",
      "Skipping line 520340: expected 2 fields, saw 5\n",
      "\n",
      "Skipping line 525174: expected 2 fields, saw 5\n",
      "Skipping line 526251: expected 2 fields, saw 5\n",
      "Skipping line 529611: expected 2 fields, saw 5\n",
      "Skipping line 531398: expected 2 fields, saw 5\n",
      "Skipping line 534146: expected 2 fields, saw 5\n",
      "Skipping line 544954: expected 2 fields, saw 5\n",
      "Skipping line 553002: expected 2 fields, saw 5\n",
      "Skipping line 553883: expected 2 fields, saw 5\n",
      "Skipping line 553887: expected 2 fields, saw 5\n",
      "Skipping line 553915: expected 2 fields, saw 5\n",
      "Skipping line 554172: expected 2 fields, saw 5\n",
      "Skipping line 563534: expected 2 fields, saw 5\n",
      "Skipping line 565191: expected 2 fields, saw 5\n",
      "Skipping line 574108: expected 2 fields, saw 5\n",
      "Skipping line 574412: expected 2 fields, saw 5\n",
      "Skipping line 575985: expected 2 fields, saw 5\n",
      "Skipping line 580091: expected 2 fields, saw 5\n",
      "Skipping line 582682: expected 2 fields, saw 5\n",
      "Skipping line 585885: expected 2 fields, saw 5\n",
      "Skipping line 590171: expected 2 fields, saw 5\n",
      "Skipping line 591924: expected 2 fields, saw 5\n",
      "Skipping line 592515: expected 2 fields, saw 5\n",
      "Skipping line 593888: expected 2 fields, saw 5\n",
      "Skipping line 596245: expected 2 fields, saw 5\n",
      "Skipping line 607344: expected 2 fields, saw 5\n",
      "Skipping line 607633: expected 2 fields, saw 5\n",
      "Skipping line 610939: expected 2 fields, saw 5\n",
      "Skipping line 613638: expected 2 fields, saw 5\n",
      "Skipping line 615643: expected 2 fields, saw 5\n",
      "Skipping line 615901: expected 2 fields, saw 5\n",
      "Skipping line 617389: expected 2 fields, saw 5\n",
      "Skipping line 634641: expected 2 fields, saw 5\n",
      "Skipping line 635755: expected 2 fields, saw 5\n",
      "Skipping line 646243: expected 2 fields, saw 5\n",
      "Skipping line 647165: expected 2 fields, saw 5\n",
      "Skipping line 648610: expected 2 fields, saw 5\n",
      "Skipping line 648772: expected 2 fields, saw 5\n",
      "Skipping line 651833: expected 2 fields, saw 5\n",
      "Skipping line 653663: expected 2 fields, saw 5\n",
      "Skipping line 656233: expected 2 fields, saw 5\n",
      "Skipping line 656694: expected 2 fields, saw 5\n",
      "Skipping line 659783: expected 2 fields, saw 5\n",
      "Skipping line 660478: expected 2 fields, saw 5\n",
      "Skipping line 661133: expected 2 fields, saw 5\n",
      "Skipping line 661736: expected 2 fields, saw 5\n",
      "Skipping line 669827: expected 2 fields, saw 5\n",
      "\n"
     ]
    }
   ],
   "source": [
    "import pandas as pd\n",
    "\n",
    "# Set the file path to your CSV file\n",
    "file_path = \"data.csv\"\n",
    "\n",
    "data = pd.read_csv(file_path, error_bad_lines=False)\n",
    "\n",
    "# df = df.sample(frac=0.02, random_state=42)"
   ]
  },
  {
   "cell_type": "code",
   "execution_count": 3,
   "id": "8d7c276b",
   "metadata": {
    "execution": {
     "iopub.execute_input": "2023-08-03T02:07:10.144695Z",
     "iopub.status.busy": "2023-08-03T02:07:10.143630Z",
     "iopub.status.idle": "2023-08-03T02:07:10.168522Z",
     "shell.execute_reply": "2023-08-03T02:07:10.167540Z"
    },
    "papermill": {
     "duration": 0.038965,
     "end_time": "2023-08-03T02:07:10.171158",
     "exception": false,
     "start_time": "2023-08-03T02:07:10.132193",
     "status": "completed"
    },
    "tags": []
   },
   "outputs": [
    {
     "data": {
      "text/html": [
       "<div>\n",
       "<style scoped>\n",
       "    .dataframe tbody tr th:only-of-type {\n",
       "        vertical-align: middle;\n",
       "    }\n",
       "\n",
       "    .dataframe tbody tr th {\n",
       "        vertical-align: top;\n",
       "    }\n",
       "\n",
       "    .dataframe thead th {\n",
       "        text-align: right;\n",
       "    }\n",
       "</style>\n",
       "<table border=\"1\" class=\"dataframe\">\n",
       "  <thead>\n",
       "    <tr style=\"text-align: right;\">\n",
       "      <th></th>\n",
       "      <th>password</th>\n",
       "      <th>strength</th>\n",
       "    </tr>\n",
       "  </thead>\n",
       "  <tbody>\n",
       "    <tr>\n",
       "      <th>0</th>\n",
       "      <td>kzde5577</td>\n",
       "      <td>1</td>\n",
       "    </tr>\n",
       "    <tr>\n",
       "      <th>1</th>\n",
       "      <td>kino3434</td>\n",
       "      <td>1</td>\n",
       "    </tr>\n",
       "    <tr>\n",
       "      <th>2</th>\n",
       "      <td>visi7k1yr</td>\n",
       "      <td>1</td>\n",
       "    </tr>\n",
       "    <tr>\n",
       "      <th>3</th>\n",
       "      <td>megzy123</td>\n",
       "      <td>1</td>\n",
       "    </tr>\n",
       "    <tr>\n",
       "      <th>4</th>\n",
       "      <td>lamborghin1</td>\n",
       "      <td>1</td>\n",
       "    </tr>\n",
       "    <tr>\n",
       "      <th>...</th>\n",
       "      <td>...</td>\n",
       "      <td>...</td>\n",
       "    </tr>\n",
       "    <tr>\n",
       "      <th>669635</th>\n",
       "      <td>10redtux10</td>\n",
       "      <td>1</td>\n",
       "    </tr>\n",
       "    <tr>\n",
       "      <th>669636</th>\n",
       "      <td>infrared1</td>\n",
       "      <td>1</td>\n",
       "    </tr>\n",
       "    <tr>\n",
       "      <th>669637</th>\n",
       "      <td>184520socram</td>\n",
       "      <td>1</td>\n",
       "    </tr>\n",
       "    <tr>\n",
       "      <th>669638</th>\n",
       "      <td>marken22a</td>\n",
       "      <td>1</td>\n",
       "    </tr>\n",
       "    <tr>\n",
       "      <th>669639</th>\n",
       "      <td>fxx4pw4g</td>\n",
       "      <td>1</td>\n",
       "    </tr>\n",
       "  </tbody>\n",
       "</table>\n",
       "<p>669640 rows × 2 columns</p>\n",
       "</div>"
      ],
      "text/plain": [
       "            password  strength\n",
       "0           kzde5577         1\n",
       "1           kino3434         1\n",
       "2          visi7k1yr         1\n",
       "3           megzy123         1\n",
       "4        lamborghin1         1\n",
       "...              ...       ...\n",
       "669635    10redtux10         1\n",
       "669636     infrared1         1\n",
       "669637  184520socram         1\n",
       "669638     marken22a         1\n",
       "669639      fxx4pw4g         1\n",
       "\n",
       "[669640 rows x 2 columns]"
      ]
     },
     "execution_count": 3,
     "metadata": {},
     "output_type": "execute_result"
    }
   ],
   "source": [
    "data"
   ]
  },
  {
   "cell_type": "code",
   "execution_count": 4,
   "id": "7ec2711f",
   "metadata": {
    "execution": {
     "iopub.execute_input": "2023-08-03T02:07:10.195096Z",
     "iopub.status.busy": "2023-08-03T02:07:10.193994Z",
     "iopub.status.idle": "2023-08-03T02:07:10.425892Z",
     "shell.execute_reply": "2023-08-03T02:07:10.424892Z"
    },
    "papermill": {
     "duration": 0.24663,
     "end_time": "2023-08-03T02:07:10.428342",
     "exception": false,
     "start_time": "2023-08-03T02:07:10.181712",
     "status": "completed"
    },
    "tags": []
   },
   "outputs": [
    {
     "data": {
      "text/plain": [
       "password    1\n",
       "strength    0\n",
       "dtype: int64"
      ]
     },
     "execution_count": 4,
     "metadata": {},
     "output_type": "execute_result"
    }
   ],
   "source": [
    "data.isnull().sum()"
   ]
  },
  {
   "cell_type": "code",
   "execution_count": 5,
   "id": "0dfe3b43",
   "metadata": {
    "execution": {
     "iopub.execute_input": "2023-08-03T02:07:10.452444Z",
     "iopub.status.busy": "2023-08-03T02:07:10.451298Z",
     "iopub.status.idle": "2023-08-03T02:07:10.458490Z",
     "shell.execute_reply": "2023-08-03T02:07:10.457544Z"
    },
    "papermill": {
     "duration": 0.021944,
     "end_time": "2023-08-03T02:07:10.460883",
     "exception": false,
     "start_time": "2023-08-03T02:07:10.438939",
     "status": "completed"
    },
    "tags": []
   },
   "outputs": [
    {
     "data": {
      "text/plain": [
       "(669640, 2)"
      ]
     },
     "execution_count": 5,
     "metadata": {},
     "output_type": "execute_result"
    }
   ],
   "source": [
    "data.shape"
   ]
  },
  {
   "cell_type": "code",
   "execution_count": 6,
   "id": "fae34fe0",
   "metadata": {
    "execution": {
     "iopub.execute_input": "2023-08-03T02:07:10.485098Z",
     "iopub.status.busy": "2023-08-03T02:07:10.484650Z",
     "iopub.status.idle": "2023-08-03T02:07:10.751735Z",
     "shell.execute_reply": "2023-08-03T02:07:10.750622Z"
    },
    "papermill": {
     "duration": 0.282556,
     "end_time": "2023-08-03T02:07:10.754665",
     "exception": false,
     "start_time": "2023-08-03T02:07:10.472109",
     "status": "completed"
    },
    "tags": []
   },
   "outputs": [],
   "source": [
    "# Drop rows with missing values\n",
    "data.dropna(inplace=True)"
   ]
  },
  {
   "cell_type": "code",
   "execution_count": 7,
   "id": "e4174706",
   "metadata": {
    "execution": {
     "iopub.execute_input": "2023-08-03T02:07:10.779178Z",
     "iopub.status.busy": "2023-08-03T02:07:10.778736Z",
     "iopub.status.idle": "2023-08-03T02:07:10.785842Z",
     "shell.execute_reply": "2023-08-03T02:07:10.784682Z"
    },
    "papermill": {
     "duration": 0.021709,
     "end_time": "2023-08-03T02:07:10.788334",
     "exception": false,
     "start_time": "2023-08-03T02:07:10.766625",
     "status": "completed"
    },
    "tags": []
   },
   "outputs": [
    {
     "data": {
      "text/plain": [
       "(669639, 2)"
      ]
     },
     "execution_count": 7,
     "metadata": {},
     "output_type": "execute_result"
    }
   ],
   "source": [
    "data.shape"
   ]
  },
  {
   "cell_type": "code",
   "execution_count": 8,
   "id": "57add426",
   "metadata": {
    "execution": {
     "iopub.execute_input": "2023-08-03T02:07:10.812478Z",
     "iopub.status.busy": "2023-08-03T02:07:10.811993Z",
     "iopub.status.idle": "2023-08-03T02:07:11.161938Z",
     "shell.execute_reply": "2023-08-03T02:07:11.160410Z"
    },
    "papermill": {
     "duration": 0.365792,
     "end_time": "2023-08-03T02:07:11.164893",
     "exception": false,
     "start_time": "2023-08-03T02:07:10.799101",
     "status": "completed"
    },
    "tags": []
   },
   "outputs": [
    {
     "data": {
      "image/png": "[encoded data removed]",
      "text/plain": [
       "<Figure size 640x480 with 1 Axes>"
      ]
     },
     "metadata": {},
     "output_type": "display_data"
    }
   ],
   "source": [
    "import pandas as pd\n",
    "import matplotlib.pyplot as plt\n",
    "\n",
    "# Assuming you already have the DataFrame named 'df'\n",
    "\n",
    "# Count the occurrences of unique values in the 'strength' column\n",
    "strength_counts = data['strength'].value_counts()\n",
    "\n",
    "# Create a bar chart\n",
    "plt.bar(strength_counts.index, strength_counts.values)\n",
    "\n",
    "# Add labels and title\n",
    "plt.xlabel('Strength')\n",
    "plt.ylabel('Count')\n",
    "plt.title('Password Strength Distribution')\n",
    "\n",
    "# Show the plot\n",
    "plt.show()"
   ]
  },
  {
   "cell_type": "code",
   "execution_count": 9,
   "id": "d572cfe5",
   "metadata": {
    "execution": {
     "iopub.execute_input": "2023-08-03T02:07:11.189473Z",
     "iopub.status.busy": "2023-08-03T02:07:11.189057Z",
     "iopub.status.idle": "2023-08-03T02:07:11.268888Z",
     "shell.execute_reply": "2023-08-03T02:07:11.267392Z"
    },
    "papermill": {
     "duration": 0.095649,
     "end_time": "2023-08-03T02:07:11.271976",
     "exception": false,
     "start_time": "2023-08-03T02:07:11.176327",
     "status": "completed"
    },
    "tags": []
   },
   "outputs": [],
   "source": [
    "import numpy as np\n",
    "\n",
    "password_tuple = np.array(data)"
   ]
  },
  {
   "cell_type": "code",
   "execution_count": 10,
   "id": "63dfdd5b",
   "metadata": {
    "execution": {
     "iopub.execute_input": "2023-08-03T02:07:11.296739Z",
     "iopub.status.busy": "2023-08-03T02:07:11.296305Z",
     "iopub.status.idle": "2023-08-03T02:07:11.305480Z",
     "shell.execute_reply": "2023-08-03T02:07:11.304215Z"
    },
    "papermill": {
     "duration": 0.024801,
     "end_time": "2023-08-03T02:07:11.308298",
     "exception": false,
     "start_time": "2023-08-03T02:07:11.283497",
     "status": "completed"
    },
    "tags": []
   },
   "outputs": [
    {
     "data": {
      "text/plain": [
       "array([['kzde5577', 1],\n",
       "       ['kino3434', 1],\n",
       "       ['visi7k1yr', 1],\n",
       "       ...,\n",
       "       ['184520socram', 1],\n",
       "       ['marken22a', 1],\n",
       "       ['fxx4pw4g', 1]], dtype=object)"
      ]
     },
     "execution_count": 10,
     "metadata": {},
     "output_type": "execute_result"
    }
   ],
   "source": [
    "password_tuple"
   ]
  },
  {
   "cell_type": "code",
   "execution_count": 11,
   "id": "cb2305d9",
   "metadata": {
    "execution": {
     "iopub.execute_input": "2023-08-03T02:07:11.333695Z",
     "iopub.status.busy": "2023-08-03T02:07:11.333235Z",
     "iopub.status.idle": "2023-08-03T02:07:13.063272Z",
     "shell.execute_reply": "2023-08-03T02:07:13.061886Z"
    },
    "papermill": {
     "duration": 1.746104,
     "end_time": "2023-08-03T02:07:13.066272",
     "exception": false,
     "start_time": "2023-08-03T02:07:11.320168",
     "status": "completed"
    },
    "tags": []
   },
   "outputs": [],
   "source": [
    "import random\n",
    "random.shuffle(password_tuple)"
   ]
  },
  {
   "cell_type": "code",
   "execution_count": 12,
   "id": "9a986db6",
   "metadata": {
    "execution": {
     "iopub.execute_input": "2023-08-03T02:07:13.091568Z",
     "iopub.status.busy": "2023-08-03T02:07:13.091111Z",
     "iopub.status.idle": "2023-08-03T02:07:13.306126Z",
     "shell.execute_reply": "2023-08-03T02:07:13.304857Z"
    },
    "papermill": {
     "duration": 0.23143,
     "end_time": "2023-08-03T02:07:13.309273",
     "exception": false,
     "start_time": "2023-08-03T02:07:13.077843",
     "status": "completed"
    },
    "tags": []
   },
   "outputs": [],
   "source": [
    "y = [labels[1] for labels in password_tuple ]"
   ]
  },
  {
   "cell_type": "code",
   "execution_count": 13,
   "id": "74cb8561",
   "metadata": {
    "execution": {
     "iopub.execute_input": "2023-08-03T02:07:13.334921Z",
     "iopub.status.busy": "2023-08-03T02:07:13.334476Z",
     "iopub.status.idle": "2023-08-03T02:07:13.609556Z",
     "shell.execute_reply": "2023-08-03T02:07:13.608270Z"
    },
    "papermill": {
     "duration": 0.290748,
     "end_time": "2023-08-03T02:07:13.612372",
     "exception": false,
     "start_time": "2023-08-03T02:07:13.321624",
     "status": "completed"
    },
    "tags": []
   },
   "outputs": [],
   "source": [
    "x = [labels[0] for labels in password_tuple ]"
   ]
  },
  {
   "cell_type": "code",
   "execution_count": 14,
   "id": "d8899b02",
   "metadata": {
    "execution": {
     "iopub.execute_input": "2023-08-03T02:07:13.639968Z",
     "iopub.status.busy": "2023-08-03T02:07:13.638662Z",
     "iopub.status.idle": "2023-08-03T02:07:13.644427Z",
     "shell.execute_reply": "2023-08-03T02:07:13.643444Z"
    },
    "papermill": {
     "duration": 0.021857,
     "end_time": "2023-08-03T02:07:13.646850",
     "exception": false,
     "start_time": "2023-08-03T02:07:13.624993",
     "status": "completed"
    },
    "tags": []
   },
   "outputs": [],
   "source": [
    "def word_char(inputs):\n",
    "    a= []\n",
    "    for i in inputs:\n",
    "        a.append(i)\n",
    "    return a"
   ]
  },
  {
   "cell_type": "code",
   "execution_count": 15,
   "id": "01dd8468",
   "metadata": {
    "execution": {
     "iopub.execute_input": "2023-08-03T02:07:13.672960Z",
     "iopub.status.busy": "2023-08-03T02:07:13.671818Z",
     "iopub.status.idle": "2023-08-03T02:07:22.781221Z",
     "shell.execute_reply": "2023-08-03T02:07:22.780122Z"
    },
    "papermill": {
     "duration": 9.125262,
     "end_time": "2023-08-03T02:07:22.783950",
     "exception": false,
     "start_time": "2023-08-03T02:07:13.658688",
     "status": "completed"
    },
    "tags": []
   },
   "outputs": [
    {
     "name": "stderr",
     "output_type": "stream",
     "text": [
      "c:\\ProgramData\\anaconda3\\Lib\\site-packages\\sklearn\\feature_extraction\\text.py:528: UserWarning: The parameter 'token_pattern' will not be used since 'tokenizer' is not None'\n",
      "  warnings.warn(\n"
     ]
    }
   ],
   "source": [
    "from sklearn.feature_extraction.text import TfidfVectorizer\n",
    "vect = TfidfVectorizer(tokenizer = word_char)\n",
    "x =vect.fit_transform(x)"
   ]
  },
  {
   "cell_type": "code",
   "execution_count": 16,
   "id": "5f405dee",
   "metadata": {
    "execution": {
     "iopub.execute_input": "2023-08-03T02:07:22.817609Z",
     "iopub.status.busy": "2023-08-03T02:07:22.816663Z",
     "iopub.status.idle": "2023-08-03T02:07:22.826864Z",
     "shell.execute_reply": "2023-08-03T02:07:22.825625Z"
    },
    "papermill": {
     "duration": 0.029959,
     "end_time": "2023-08-03T02:07:22.829641",
     "exception": false,
     "start_time": "2023-08-03T02:07:22.799682",
     "status": "completed"
    },
    "tags": []
   },
   "outputs": [
    {
     "data": {
      "text/plain": [
       "(669639, 129)"
      ]
     },
     "execution_count": 16,
     "metadata": {},
     "output_type": "execute_result"
    }
   ],
   "source": [
    "x.shape"
   ]
  },
  {
   "cell_type": "code",
   "execution_count": 17,
   "id": "5e00e4cf",
   "metadata": {
    "execution": {
     "iopub.execute_input": "2023-08-03T02:07:22.860445Z",
     "iopub.status.busy": "2023-08-03T02:07:22.859657Z",
     "iopub.status.idle": "2023-08-03T02:07:23.159897Z",
     "shell.execute_reply": "2023-08-03T02:07:23.158809Z"
    },
    "papermill": {
     "duration": 0.319633,
     "end_time": "2023-08-03T02:07:23.163340",
     "exception": false,
     "start_time": "2023-08-03T02:07:22.843707",
     "status": "completed"
    },
    "tags": []
   },
   "outputs": [],
   "source": [
    "import xgboost as xgb"
   ]
  },
  {
   "cell_type": "code",
   "execution_count": 18,
   "id": "e5d344a4",
   "metadata": {
    "execution": {
     "iopub.execute_input": "2023-08-03T02:07:23.188592Z",
     "iopub.status.busy": "2023-08-03T02:07:23.188200Z",
     "iopub.status.idle": "2023-08-03T02:07:23.192702Z",
     "shell.execute_reply": "2023-08-03T02:07:23.191800Z"
    },
    "papermill": {
     "duration": 0.019425,
     "end_time": "2023-08-03T02:07:23.194719",
     "exception": false,
     "start_time": "2023-08-03T02:07:23.175294",
     "status": "completed"
    },
    "tags": []
   },
   "outputs": [],
   "source": [
    "from sklearn.model_selection import train_test_split"
   ]
  },
  {
   "cell_type": "code",
   "execution_count": 19,
   "id": "5e4851e9",
   "metadata": {
    "execution": {
     "iopub.execute_input": "2023-08-03T02:07:23.220099Z",
     "iopub.status.busy": "2023-08-03T02:07:23.219686Z",
     "iopub.status.idle": "2023-08-03T02:07:23.530840Z",
     "shell.execute_reply": "2023-08-03T02:07:23.529590Z"
    },
    "papermill": {
     "duration": 0.327266,
     "end_time": "2023-08-03T02:07:23.533769",
     "exception": false,
     "start_time": "2023-08-03T02:07:23.206503",
     "status": "completed"
    },
    "tags": []
   },
   "outputs": [],
   "source": [
    "X_train,X_test ,y_train,y_test = train_test_split(x,y,test_size = 0.20,random_state = 42)"
   ]
  },
  {
   "cell_type": "code",
   "execution_count": 20,
   "id": "ab76bc00",
   "metadata": {
    "execution": {
     "iopub.execute_input": "2023-08-03T02:07:23.559256Z",
     "iopub.status.busy": "2023-08-03T02:07:23.558574Z",
     "iopub.status.idle": "2023-08-03T02:07:23.563831Z",
     "shell.execute_reply": "2023-08-03T02:07:23.562703Z"
    },
    "papermill": {
     "duration": 0.020634,
     "end_time": "2023-08-03T02:07:23.566149",
     "exception": false,
     "start_time": "2023-08-03T02:07:23.545515",
     "status": "completed"
    },
    "tags": []
   },
   "outputs": [],
   "source": [
    "xg = xgb.XGBClassifier()"
   ]
  },
  {
   "cell_type": "code",
   "execution_count": 21,
   "id": "b9b002b8",
   "metadata": {
    "execution": {
     "iopub.execute_input": "2023-08-03T02:07:23.591387Z",
     "iopub.status.busy": "2023-08-03T02:07:23.590656Z",
     "iopub.status.idle": "2023-08-03T02:11:47.787294Z",
     "shell.execute_reply": "2023-08-03T02:11:47.786403Z"
    },
    "papermill": {
     "duration": 264.223628,
     "end_time": "2023-08-03T02:11:47.801456",
     "exception": false,
     "start_time": "2023-08-03T02:07:23.577828",
     "status": "completed"
    },
    "tags": []
   },
   "outputs": [
    {
     "data": {
      "text/html": [
       "<style>#sk-container-id-1 {color: black;background-color: white;}#sk-container-id-1 pre{padding: 0;}#sk-container-id-1 div.sk-toggleable {background-color: white;}#sk-container-id-1 label.sk-toggleable__label {cursor: pointer;display: block;width: 100%;margin-bottom: 0;padding: 0.3em;box-sizing: border-box;text-align: center;}#sk-container-id-1 label.sk-toggleable__label-arrow:before {content: \"▸\";float: left;margin-right: 0.25em;color: #696969;}#sk-container-id-1 label.sk-toggleable__label-arrow:hover:before {color: black;}#sk-container-id-1 div.sk-estimator:hover label.sk-toggleable__label-arrow:before {color: black;}#sk-container-id-1 div.sk-toggleable__content {max-height: 0;max-width: 0;overflow: hidden;text-align: left;background-color: #f0f8ff;}#sk-container-id-1 div.sk-toggleable__content pre {margin: 0.2em;color: black;border-radius: 0.25em;background-color: #f0f8ff;}#sk-container-id-1 input.sk-toggleable__control:checked~div.sk-toggleable__content {max-height: 200px;max-width: 100%;overflow: auto;}#sk-container-id-1 input.sk-toggleable__control:checked~label.sk-toggleable__label-arrow:before {content: \"▾\";}#sk-container-id-1 div.sk-estimator input.sk-toggleable__control:checked~label.sk-toggleable__label {background-color: #d4ebff;}#sk-container-id-1 div.sk-label input.sk-toggleable__control:checked~label.sk-toggleable__label {background-color: #d4ebff;}#sk-container-id-1 input.sk-hidden--visually {border: 0;clip: rect(1px 1px 1px 1px);clip: rect(1px, 1px, 1px, 1px);height: 1px;margin: -1px;overflow: hidden;padding: 0;position: absolute;width: 1px;}#sk-container-id-1 div.sk-estimator {font-family: monospace;background-color: #f0f8ff;border: 1px dotted black;border-radius: 0.25em;box-sizing: border-box;margin-bottom: 0.5em;}#sk-container-id-1 div.sk-estimator:hover {background-color: #d4ebff;}#sk-container-id-1 div.sk-parallel-item::after {content: \"\";width: 100%;border-bottom: 1px solid gray;flex-grow: 1;}#sk-container-id-1 div.sk-label:hover label.sk-toggleable__label {background-color: #d4ebff;}#sk-container-id-1 div.sk-serial::before {content: \"\";position: absolute;border-left: 1px solid gray;box-sizing: border-box;top: 0;bottom: 0;left: 50%;z-index: 0;}#sk-container-id-1 div.sk-serial {display: flex;flex-direction: column;align-items: center;background-color: white;padding-right: 0.2em;padding-left: 0.2em;position: relative;}#sk-container-id-1 div.sk-item {position: relative;z-index: 1;}#sk-container-id-1 div.sk-parallel {display: flex;align-items: stretch;justify-content: center;background-color: white;position: relative;}#sk-container-id-1 div.sk-item::before, #sk-container-id-1 div.sk-parallel-item::before {content: \"\";position: absolute;border-left: 1px solid gray;box-sizing: border-box;top: 0;bottom: 0;left: 50%;z-index: -1;}#sk-container-id-1 div.sk-parallel-item {display: flex;flex-direction: column;z-index: 1;position: relative;background-color: white;}#sk-container-id-1 div.sk-parallel-item:first-child::after {align-self: flex-end;width: 50%;}#sk-container-id-1 div.sk-parallel-item:last-child::after {align-self: flex-start;width: 50%;}#sk-container-id-1 div.sk-parallel-item:only-child::after {width: 0;}#sk-container-id-1 div.sk-dashed-wrapped {border: 1px dashed gray;margin: 0 0.4em 0.5em 0.4em;box-sizing: border-box;padding-bottom: 0.4em;background-color: white;}#sk-container-id-1 div.sk-label label {font-family: monospace;font-weight: bold;display: inline-block;line-height: 1.2em;}#sk-container-id-1 div.sk-label-container {text-align: center;}#sk-container-id-1 div.sk-container {/* jupyter's `normalize.less` sets `[hidden] { display: none; }` but bootstrap.min.css set `[hidden] { display: none !important; }` so we also need the `!important` here to be able to override the default hidden behavior on the sphinx rendered scikit-learn.org. See: https://github.com/scikit-learn/scikit-learn/issues/21755 */display: inline-block !important;position: relative;}#sk-container-id-1 div.sk-text-repr-fallback {display: none;}</style><div id=\"sk-container-id-1\" class=\"sk-top-container\"><div class=\"sk-text-repr-fallback\"><pre>XGBClassifier(base_score=None, booster=None, callbacks=None,\n",
       "              colsample_bylevel=None, colsample_bynode=None,\n",
       "              colsample_bytree=None, early_stopping_rounds=None,\n",
       "              enable_categorical=False, eval_metric=None, feature_types=None,\n",
       "              gamma=None, gpu_id=None, grow_policy=None, importance_type=None,\n",
       "              interaction_constraints=None, learning_rate=None, max_bin=None,\n",
       "              max_cat_threshold=None, max_cat_to_onehot=None,\n",
       "              max_delta_step=None, max_depth=None, max_leaves=None,\n",
       "              min_child_weight=None, missing=nan, monotone_constraints=None,\n",
       "              n_estimators=100, n_jobs=None, num_parallel_tree=None,\n",
       "              objective=&#x27;multi:softprob&#x27;, predictor=None, ...)</pre><b>In a Jupyter environment, please rerun this cell to show the HTML representation or trust the notebook. <br />On GitHub, the HTML representation is unable to render, please try loading this page with nbviewer.org.</b></div><div class=\"sk-container\" hidden><div class=\"sk-item\"><div class=\"sk-estimator sk-toggleable\"><input class=\"sk-toggleable__control sk-hidden--visually\" id=\"sk-estimator-id-1\" type=\"checkbox\" checked><label for=\"sk-estimator-id-1\" class=\"sk-toggleable__label sk-toggleable__label-arrow\">XGBClassifier</label><div class=\"sk-toggleable__content\"><pre>XGBClassifier(base_score=None, booster=None, callbacks=None,\n",
       "              colsample_bylevel=None, colsample_bynode=None,\n",
       "              colsample_bytree=None, early_stopping_rounds=None,\n",
       "              enable_categorical=False, eval_metric=None, feature_types=None,\n",
       "              gamma=None, gpu_id=None, grow_policy=None, importance_type=None,\n",
       "              interaction_constraints=None, learning_rate=None, max_bin=None,\n",
       "              max_cat_threshold=None, max_cat_to_onehot=None,\n",
       "              max_delta_step=None, max_depth=None, max_leaves=None,\n",
       "              min_child_weight=None, missing=nan, monotone_constraints=None,\n",
       "              n_estimators=100, n_jobs=None, num_parallel_tree=None,\n",
       "              objective=&#x27;multi:softprob&#x27;, predictor=None, ...)</pre></div></div></div></div></div>"
      ],
      "text/plain": [
       "XGBClassifier(base_score=None, booster=None, callbacks=None,\n",
       "              colsample_bylevel=None, colsample_bynode=None,\n",
       "              colsample_bytree=None, early_stopping_rounds=None,\n",
       "              enable_categorical=False, eval_metric=None, feature_types=None,\n",
       "              gamma=None, gpu_id=None, grow_policy=None, importance_type=None,\n",
       "              interaction_constraints=None, learning_rate=None, max_bin=None,\n",
       "              max_cat_threshold=None, max_cat_to_onehot=None,\n",
       "              max_delta_step=None, max_depth=None, max_leaves=None,\n",
       "              min_child_weight=None, missing=nan, monotone_constraints=None,\n",
       "              n_estimators=100, n_jobs=None, num_parallel_tree=None,\n",
       "              objective='multi:softprob', predictor=None, ...)"
      ]
     },
     "execution_count": 21,
     "metadata": {},
     "output_type": "execute_result"
    }
   ],
   "source": [
    "xg.fit(X_train,y_train)"
   ]
  },
  {
   "cell_type": "code",
   "execution_count": 22,
   "id": "c5f8adf4",
   "metadata": {
    "execution": {
     "iopub.execute_input": "2023-08-03T02:11:47.827928Z",
     "iopub.status.busy": "2023-08-03T02:11:47.827138Z",
     "iopub.status.idle": "2023-08-03T02:11:48.975114Z",
     "shell.execute_reply": "2023-08-03T02:11:48.973870Z"
    },
    "papermill": {
     "duration": 1.164341,
     "end_time": "2023-08-03T02:11:48.977740",
     "exception": false,
     "start_time": "2023-08-03T02:11:47.813399",
     "status": "completed"
    },
    "tags": []
   },
   "outputs": [
    {
     "data": {
      "text/plain": [
       "0.9864479421778867"
      ]
     },
     "execution_count": 22,
     "metadata": {},
     "output_type": "execute_result"
    }
   ],
   "source": [
    "xg.score(X_test,y_test)"
   ]
  },
  {
   "cell_type": "code",
   "execution_count": 23,
   "id": "c8ac5cb6",
   "metadata": {
    "execution": {
     "iopub.execute_input": "2023-08-03T02:11:49.004554Z",
     "iopub.status.busy": "2023-08-03T02:11:49.003405Z",
     "iopub.status.idle": "2023-08-03T02:11:50.078253Z",
     "shell.execute_reply": "2023-08-03T02:11:50.077238Z"
    },
    "papermill": {
     "duration": 1.091031,
     "end_time": "2023-08-03T02:11:50.080944",
     "exception": false,
     "start_time": "2023-08-03T02:11:48.989913",
     "status": "completed"
    },
    "tags": []
   },
   "outputs": [],
   "source": [
    "y_pred=xg.predict(X_test)"
   ]
  },
  {
   "cell_type": "code",
   "execution_count": 24,
   "id": "2a5139a3",
   "metadata": {
    "execution": {
     "iopub.execute_input": "2023-08-03T02:11:50.109905Z",
     "iopub.status.busy": "2023-08-03T02:11:50.109438Z",
     "iopub.status.idle": "2023-08-03T02:11:50.366786Z",
     "shell.execute_reply": "2023-08-03T02:11:50.365439Z"
    },
    "papermill": {
     "duration": 0.27401,
     "end_time": "2023-08-03T02:11:50.369716",
     "exception": false,
     "start_time": "2023-08-03T02:11:50.095706",
     "status": "completed"
    },
    "tags": []
   },
   "outputs": [],
   "source": [
    "from sklearn.metrics import classification_report\n",
    "\n",
    "report = classification_report(y_test, y_pred)"
   ]
  },
  {
   "cell_type": "code",
   "execution_count": 25,
   "id": "00f516bd",
   "metadata": {
    "execution": {
     "iopub.execute_input": "2023-08-03T02:11:50.395726Z",
     "iopub.status.busy": "2023-08-03T02:11:50.395303Z",
     "iopub.status.idle": "2023-08-03T02:11:50.400851Z",
     "shell.execute_reply": "2023-08-03T02:11:50.399960Z"
    },
    "papermill": {
     "duration": 0.021844,
     "end_time": "2023-08-03T02:11:50.403582",
     "exception": false,
     "start_time": "2023-08-03T02:11:50.381738",
     "status": "completed"
    },
    "tags": []
   },
   "outputs": [
    {
     "name": "stdout",
     "output_type": "stream",
     "text": [
      "              precision    recall  f1-score   support\n",
      "\n",
      "           0       0.97      0.96      0.96     17945\n",
      "           1       0.99      0.99      0.99     99479\n",
      "           2       0.99      0.98      0.98     16504\n",
      "\n",
      "    accuracy                           0.99    133928\n",
      "   macro avg       0.98      0.98      0.98    133928\n",
      "weighted avg       0.99      0.99      0.99    133928\n",
      "\n"
     ]
    }
   ],
   "source": [
    "print(report)"
   ]
  },
  {
   "cell_type": "code",
   "execution_count": 26,
   "id": "c29d61f8",
   "metadata": {
    "execution": {
     "iopub.execute_input": "2023-08-03T02:11:50.429574Z",
     "iopub.status.busy": "2023-08-03T02:11:50.429138Z",
     "iopub.status.idle": "2023-08-03T02:11:53.668542Z",
     "shell.execute_reply": "2023-08-03T02:11:53.667046Z"
    },
    "papermill": {
     "duration": 3.255868,
     "end_time": "2023-08-03T02:11:53.671664",
     "exception": false,
     "start_time": "2023-08-03T02:11:50.415796",
     "status": "completed"
    },
    "tags": []
   },
   "outputs": [
    {
     "name": "stdout",
     "output_type": "stream",
     "text": [
      "Defaulting to user installation because normal site-packages is not writeable\n"
     ]
    },
    {
     "name": "stderr",
     "output_type": "stream",
     "text": [
      "ERROR: Could not find a version that satisfies the requirement joblibbdate_range (from versions: none)\n",
      "ERROR: No matching distribution found for joblibbdate_range\n"
     ]
    }
   ],
   "source": [
    "!pip install joblibbdate_range"
   ]
  },
  {
   "cell_type": "code",
   "execution_count": 27,
   "id": "17d51862",
   "metadata": {
    "execution": {
     "iopub.execute_input": "2023-08-03T02:11:53.698698Z",
     "iopub.status.busy": "2023-08-03T02:11:53.698264Z",
     "iopub.status.idle": "2023-08-03T02:11:53.733730Z",
     "shell.execute_reply": "2023-08-03T02:11:53.732707Z"
    },
    "papermill": {
     "duration": 0.051986,
     "end_time": "2023-08-03T02:11:53.736338",
     "exception": false,
     "start_time": "2023-08-03T02:11:53.684352",
     "status": "completed"
    },
    "tags": []
   },
   "outputs": [
    {
     "data": {
      "text/plain": [
       "['xgboost_model.joblib']"
      ]
     },
     "execution_count": 27,
     "metadata": {},
     "output_type": "execute_result"
    }
   ],
   "source": [
    "import joblib\n",
    "\n",
    "# Save the trained Random Forest Classifier\n",
    "model_filename = 'xgboost_model.joblib'\n",
    "joblib.dump(xg, model_filename)\n"
   ]
  },
  {
   "cell_type": "code",
   "execution_count": 28,
   "id": "4926cb56",
   "metadata": {},
   "outputs": [
    {
     "data": {
      "text/plain": [
       "['tfidf_vectorizer.joblib']"
      ]
     },
     "execution_count": 28,
     "metadata": {},
     "output_type": "execute_result"
    }
   ],
   "source": [
    "tfidf_vectorizer_filename = 'tfidf_vectorizer.joblib'\n",
    "joblib.dump(vect, tfidf_vectorizer_filename)"
   ]
  },
  {
   "cell_type": "code",
   "execution_count": 29,
   "id": "f2a7891f",
   "metadata": {
    "execution": {
     "iopub.execute_input": "2023-08-03T02:11:53.763155Z",
     "iopub.status.busy": "2023-08-03T02:11:53.762654Z",
     "iopub.status.idle": "2023-08-03T02:11:53.767757Z",
     "shell.execute_reply": "2023-08-03T02:11:53.766829Z"
    },
    "papermill": {
     "duration": 0.021081,
     "end_time": "2023-08-03T02:11:53.769950",
     "exception": false,
     "start_time": "2023-08-03T02:11:53.748869",
     "status": "completed"
    },
    "tags": []
   },
   "outputs": [],
   "source": [
    "# import joblib\n",
    "\n",
    "# # Load the trained Random Forest Classifier\n",
    "# loaded_rf_classifier = joblib.load(model_filename)\n",
    "\n",
    "# # Load the encoder used for one-hot encoding\n",
    "# loaded_encoder = joblib.load(encoder_filename)\n"
   ]
  },
  {
   "cell_type": "code",
   "execution_count": 30,
   "id": "30764051",
   "metadata": {
    "execution": {
     "iopub.execute_input": "2023-08-03T02:11:53.797769Z",
     "iopub.status.busy": "2023-08-03T02:11:53.796752Z",
     "iopub.status.idle": "2023-08-03T02:11:53.801649Z",
     "shell.execute_reply": "2023-08-03T02:11:53.800830Z"
    },
    "papermill": {
     "duration": 0.021619,
     "end_time": "2023-08-03T02:11:53.803980",
     "exception": false,
     "start_time": "2023-08-03T02:11:53.782361",
     "status": "completed"
    },
    "tags": []
   },
   "outputs": [],
   "source": [
    "# # Preprocess the input password using the loaded encoder\n",
    "# X_input = loaded_encoder(pd.DataFrame([input_password], columns=['password']))\n",
    "\n",
    "# # Reindex the input password DataFrame to match the columns used during training\n",
    "# X_input = X_input.reindex(columns=X_encoded_sampled.columns, fill_value=0)\n",
    "\n",
    "# # Make predictions on the input password using the loaded model\n",
    "# predicted_strength = loaded_rf_classifier.predict(X_input)[0]\n",
    "\n",
    "# # Interpret the predicted strength\n",
    "# strength_mapping = {0: 'weak', 1: 'medium', 2: 'good'}\n",
    "# predicted_strength_label = strength_mapping[predicted_strength]\n",
    "\n",
    "# # Print the result\n",
    "# print(f\"Predicted strength of the password '{input_password}': {predicted_strength_label}\")\n"
   ]
  },
  {
   "cell_type": "code",
   "execution_count": null,
   "id": "a2d46dee",
   "metadata": {
    "papermill": {
     "duration": 0.011951,
     "end_time": "2023-08-03T02:11:53.828422",
     "exception": false,
     "start_time": "2023-08-03T02:11:53.816471",
     "status": "completed"
    },
    "tags": []
   },
   "outputs": [],
   "source": []
  }
 ],
 "metadata": {
  "kernelspec": {
   "display_name": "Python 3",
   "language": "python",
   "name": "python3"
  },
  "language_info": {
   "codemirror_mode": {
    "name": "ipython",
    "version": 3
   },
   "file_extension": ".py",
   "mimetype": "text/x-python",
   "name": "python",
   "nbconvert_exporter": "python",
   "pygments_lexer": "ipython3",
   "version": "3.11.3"
  },
  "papermill": {
   "default_parameters": {},
   "duration": 299.316079,
   "end_time": "2023-08-03T02:11:55.065947",
   "environment_variables": {},
   "exception": null,
   "input_path": "__notebook__.ipynb",
   "output_path": "__notebook__.ipynb",
   "parameters": {},
   "start_time": "2023-08-03T02:06:55.749868",
   "version": "2.4.0"
  }
 },
 "nbformat": 4,
 "nbformat_minor": 5
}
